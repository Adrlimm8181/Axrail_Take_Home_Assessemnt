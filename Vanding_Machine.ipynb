{
  "nbformat": 4,
  "nbformat_minor": 0,
  "metadata": {
    "colab": {
      "provenance": []
    },
    "kernelspec": {
      "name": "python3",
      "display_name": "Python 3"
    },
    "language_info": {
      "name": "python"
    }
  },
  "cells": [
    {
      "cell_type": "code",
      "execution_count": 15,
      "metadata": {
        "colab": {
          "base_uri": "https://localhost:8080/"
        },
        "id": "2ih4DymQ93zT",
        "outputId": "e8320868-47a4-4350-b282-1f06ab15af8e"
      },
      "outputs": [
        {
          "output_type": "stream",
          "name": "stdout",
          "text": [
            "Available drinks and prices:\n",
            "1. Coke : $25\n",
            "2. 100Plus : $35\n",
            "3. Fanta : $15\n",
            "Enter the index of the drinks you wish to buy: 3\n",
            "The price of Fanta is $15\n",
            "Please enter the amount of money: $16\n",
            "Dispensing Fanta...\n",
            "Change to be returned: $1\n",
            "Change notes: [1]\n"
          ]
        }
      ],
      "source": [
        "class Vending_machine:\n",
        "\n",
        "  def __init__(self):\n",
        "    self.items = {\n",
        "        \"Coke\" : 25,\n",
        "        \"100Plus\" : 35,\n",
        "        \"Fanta\" : 15,\n",
        "    }\n",
        "    self.available_notes = [1, 5, 10, 20]\n",
        "\n",
        "  def Display_items(self):\n",
        "    print(\"Available drinks and prices:\")\n",
        "    for index, (item, price) in enumerate(self.items.items(), start = 1):\n",
        "    # for item, price in self.items.items():\n",
        "      print(f\"{index}. {item} : ${price}\")\n",
        "\n",
        "  def Get_least_change(self, change):\n",
        "    Change_notes = []\n",
        "    for note in sorted(self.available_notes, reverse = True):\n",
        "      while change >= note:\n",
        "        Change_notes.append(note)\n",
        "        change -= note\n",
        "    return Change_notes\n",
        "\n",
        "  def Purchase(self):\n",
        "    self.Display_items()\n",
        "\n",
        "    while True:\n",
        "      selection = int(input(\"Enter the index of the drinks you wish to buy: \"))\n",
        "      if 1 <= selection <= len(self.items):\n",
        "        Drink = list(self.items.keys())[selection - 1]\n",
        "        break\n",
        "      else:\n",
        "        print(\"Invalid drink selected. Please try again\")\n",
        "        # continue\n",
        "\n",
        "    Price = self.items[Drink]\n",
        "    print(f\"The price of {Drink} is ${Price}\")\n",
        "\n",
        "\n",
        "    amount_inserted = int(input(\"Please enter the amount of money: $\"))\n",
        "\n",
        "    if amount_inserted < Price:\n",
        "      print(\"Insufficient amount. Transaction cancelled.\")\n",
        "      return\n",
        "\n",
        "    change = amount_inserted - Price\n",
        "    change_notes = self.Get_least_change(change)\n",
        "\n",
        "    print(f\"Dispensing {Drink}...\")\n",
        "    print(f\"Change to be returned: ${change}\")\n",
        "    print(f\"Change notes: {change_notes}\")\n",
        "\n",
        "\n",
        "VM = Vending_machine()\n",
        "VM.Purchase()\n",
        "\n",
        "\n"
      ]
    },
    {
      "cell_type": "code",
      "source": [],
      "metadata": {
        "id": "CpgVbfn2P_mt"
      },
      "execution_count": null,
      "outputs": []
    }
  ]
}